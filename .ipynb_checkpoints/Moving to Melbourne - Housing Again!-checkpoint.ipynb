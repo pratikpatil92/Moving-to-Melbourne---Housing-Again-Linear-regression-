{
 "cells": [
  {
   "cell_type": "code",
   "execution_count": 1,
   "metadata": {},
   "outputs": [],
   "source": [
    "import numpy as np\n",
    "import pandas as pd\n",
    "from sklearn.model_selection import train_test_split"
   ]
  },
  {
   "cell_type": "code",
   "execution_count": 4,
   "metadata": {},
   "outputs": [
    {
     "name": "stdout",
     "output_type": "stream",
     "text": [
      "                  Rooms      Type    Method   SellerG  Distance  Postcode  \\\n",
      "Rooms          1.000000 -0.590817 -0.053525 -0.029506  0.289699  0.050753   \n",
      "Type          -0.590817  1.000000  0.088308  0.026955 -0.242188  0.018737   \n",
      "Method        -0.053525  0.088308  1.000000 -0.008889 -0.064479 -0.034679   \n",
      "SellerG       -0.029506  0.026955 -0.008889  1.000000  0.024476 -0.001913   \n",
      "Distance       0.289699 -0.242188 -0.064479  0.024476  1.000000  0.414110   \n",
      "Postcode       0.050753  0.018737 -0.034679 -0.001913  0.414110  1.000000   \n",
      "Bathroom       0.607276 -0.276890 -0.013801 -0.034939  0.114934  0.088003   \n",
      "Car            0.420030 -0.278868 -0.019285 -0.000271  0.257264  0.024650   \n",
      "Landsize       0.092030 -0.043433 -0.021601 -0.028470  0.063563  0.030973   \n",
      "BuildingArea   0.595395 -0.386768 -0.048287 -0.042596  0.145823  0.062701   \n",
      "YearBuilt     -0.056373  0.304479  0.021274 -0.000680  0.252163  0.027168   \n",
      "CouncilArea   -0.207234  0.159736  0.018771 -0.002784 -0.280674 -0.059066   \n",
      "Longtitude     0.095944  0.000434 -0.059914 -0.061029  0.210853  0.423931   \n",
      "Regionname    -0.009092  0.055988  0.033184  0.023397 -0.089077  0.006935   \n",
      "Propertycount -0.106854  0.111803 -0.024244  0.063498 -0.063805  0.058458   \n",
      "\n",
      "               Bathroom       Car  Landsize  BuildingArea  YearBuilt  \\\n",
      "Rooms          0.607276  0.420030  0.092030      0.595395  -0.056373   \n",
      "Type          -0.276890 -0.278868 -0.043433     -0.386768   0.304479   \n",
      "Method        -0.013801 -0.019285 -0.021601     -0.048287   0.021274   \n",
      "SellerG       -0.034939 -0.000271 -0.028470     -0.042596  -0.000680   \n",
      "Distance       0.114934  0.257264  0.063563      0.145823   0.252163   \n",
      "Postcode       0.088003  0.024650  0.030973      0.062701   0.027168   \n",
      "Bathroom       1.000000  0.325872  0.080768      0.525465   0.162484   \n",
      "Car            0.325872  1.000000  0.112280      0.318675   0.108676   \n",
      "Landsize       0.080768  0.112280  1.000000      0.081878   0.032836   \n",
      "BuildingArea   0.525465  0.318675  0.081878      1.000000   0.014778   \n",
      "YearBuilt      0.162484  0.108676  0.032836      0.014778   1.000000   \n",
      "CouncilArea   -0.102732 -0.164842 -0.049492     -0.165966  -0.065787   \n",
      "Longtitude     0.109001  0.048052  0.039890      0.105596  -0.009848   \n",
      "Regionname     0.037968  0.005941 -0.012608      0.033615  -0.014789   \n",
      "Propertycount -0.058078 -0.032157 -0.019397     -0.071308   0.015524   \n",
      "\n",
      "               CouncilArea  Longtitude  Regionname  Propertycount  \n",
      "Rooms            -0.207234    0.095944   -0.009092      -0.106854  \n",
      "Type              0.159736    0.000434    0.055988       0.111803  \n",
      "Method            0.018771   -0.059914    0.033184      -0.024244  \n",
      "SellerG          -0.002784   -0.061029    0.023397       0.063498  \n",
      "Distance         -0.280674    0.210853   -0.089077      -0.063805  \n",
      "Postcode         -0.059066    0.423931    0.006935       0.058458  \n",
      "Bathroom         -0.102732    0.109001    0.037968      -0.058078  \n",
      "Car              -0.164842    0.048052    0.005941      -0.032157  \n",
      "Landsize         -0.049492    0.039890   -0.012608      -0.019397  \n",
      "BuildingArea     -0.165966    0.105596    0.033615      -0.071308  \n",
      "YearBuilt        -0.065787   -0.009848   -0.014789       0.015524  \n",
      "CouncilArea       1.000000   -0.159771   -0.046359       0.017378  \n",
      "Longtitude       -0.159771    1.000000   -0.480664       0.045455  \n",
      "Regionname       -0.046359   -0.480664    1.000000      -0.141699  \n",
      "Propertycount     0.017378    0.045455   -0.141699       1.000000  \n"
     ]
    }
   ],
   "source": [
    " #load the dataframe\n",
    "df = pd.read_csv('C:/Users/Pratik/Desktop/my codes/linear_regression_Regularization/main.csv')\n",
    "\n",
    "#Indepenent varibles\n",
    "X = df.drop('Price',axis=1)\n",
    "\n",
    "# store dependent variable\n",
    "y = df['Price']\n",
    "\n",
    "# spliting the dataframe\n",
    "\n",
    "X_train,X_test,y_train,y_test=train_test_split(X,y ,test_size=0.3,random_state=6)\n",
    "\n",
    "# check correlation\n",
    "corr=X_train.corr()\n",
    "\n",
    "# print correlation\n",
    "print(corr)\n",
    "\n",
    "#Code ends here"
   ]
  },
  {
   "cell_type": "code",
   "execution_count": 5,
   "metadata": {},
   "outputs": [
    {
     "name": "stdout",
     "output_type": "stream",
     "text": [
      "[1008644.8620373  1116750.12658742 1964354.97623545 ... 1142013.40321895\n",
      " 2286698.61929649 1569079.5683234 ]\n",
      "0.610875922874348\n"
     ]
    }
   ],
   "source": [
    "from sklearn.linear_model import LinearRegression\n",
    "from sklearn.metrics import r2_score\n",
    "\n",
    "# Code starts here\n",
    "regressor = LinearRegression()\n",
    "regressor.fit(X_train,y_train)\n",
    "y_pred = regressor.predict(X_test)\n",
    "print(y_pred)\n",
    "r2 = regressor.score (X_test,y_test)\n",
    "print(r2)\n"
   ]
  },
  {
   "cell_type": "code",
   "execution_count": 6,
   "metadata": {},
   "outputs": [
    {
     "name": "stdout",
     "output_type": "stream",
     "text": [
      "0.6108776228380521\n"
     ]
    }
   ],
   "source": [
    "from sklearn.linear_model import Lasso\n",
    "\n",
    "# Code starts here\n",
    "lasso = Lasso()\n",
    "lasso.fit(X_train,y_train)\n",
    "lasso_pred = lasso.predict(X_test)\n",
    "r2_lasso = lasso.score(X_test,y_test)\n",
    "print(r2_lasso)"
   ]
  },
  {
   "cell_type": "code",
   "execution_count": 7,
   "metadata": {},
   "outputs": [
    {
     "name": "stdout",
     "output_type": "stream",
     "text": [
      "0.6112942316771472\n"
     ]
    }
   ],
   "source": [
    "from sklearn.linear_model import Ridge\n",
    "\n",
    "# Code starts here\n",
    "ridge = Ridge()\n",
    "ridge.fit(X_train,y_train)\n",
    "ridge_pred = ridge.predict(X_test)\n",
    "r2_ridge = ridge.score(X_test,y_test)\n",
    "print(r2_ridge)\n",
    "# Code ends here"
   ]
  },
  {
   "cell_type": "code",
   "execution_count": 8,
   "metadata": {},
   "outputs": [
    {
     "name": "stdout",
     "output_type": "stream",
     "text": [
      "[0.59261059 0.64601294 0.70295375 0.70614706 0.45202523 0.60449834\n",
      " 0.65860055 0.66492627 0.44047621 0.63294729]\n",
      "0.6101198231670761\n"
     ]
    }
   ],
   "source": [
    "from sklearn.model_selection import cross_val_score\n",
    "\n",
    "#Code starts here\n",
    "\n",
    "# Initiate Linear Regression Model\n",
    "regressor=LinearRegression()\n",
    "\n",
    "# Initiate cross validation score\n",
    "score= cross_val_score(regressor,X_train,y_train ,scoring= 'r2' ,cv=10)\n",
    "print(score)\n",
    "#calculate mean of the score\n",
    "mean_score = np.mean(score)\n",
    "\n",
    "# print mean score\n",
    "print(mean_score)\n",
    "\n",
    "\n",
    "#Code ends here"
   ]
  },
  {
   "cell_type": "code",
   "execution_count": 9,
   "metadata": {},
   "outputs": [
    {
     "name": "stdout",
     "output_type": "stream",
     "text": [
      "0.610875922874348\n"
     ]
    }
   ],
   "source": [
    "from sklearn.preprocessing import PolynomialFeatures\n",
    "from sklearn.pipeline import make_pipeline\n",
    "\n",
    "# make pipeline for second degree polynomialfeatures\n",
    "model = make_pipeline(PolynomialFeatures(2), LinearRegression())\n",
    "\n",
    "# Fit the model on training set\n",
    "model.fit(X_train, y_train)\n",
    "\n",
    "# predict the model performance\n",
    "y_pred = model.predict(X_test)\n",
    "\n",
    "# calculate r2 score\n",
    "r2_poly= r2_score(y_test,y_pred)\n",
    "\n",
    "# print r2 score\n",
    "print(r2)"
   ]
  },
  {
   "cell_type": "code",
   "execution_count": null,
   "metadata": {},
   "outputs": [],
   "source": []
  }
 ],
 "metadata": {
  "kernelspec": {
   "display_name": "Python 3",
   "language": "python",
   "name": "python3"
  },
  "language_info": {
   "codemirror_mode": {
    "name": "ipython",
    "version": 3
   },
   "file_extension": ".py",
   "mimetype": "text/x-python",
   "name": "python",
   "nbconvert_exporter": "python",
   "pygments_lexer": "ipython3",
   "version": "3.6.8"
  }
 },
 "nbformat": 4,
 "nbformat_minor": 2
}
